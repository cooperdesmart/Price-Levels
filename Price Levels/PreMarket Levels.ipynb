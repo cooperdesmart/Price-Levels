{
 "cells": [
  {
   "cell_type": "code",
   "execution_count": 22,
   "id": "cba199c7",
   "metadata": {},
   "outputs": [
    {
     "name": "stdout",
     "output_type": "stream",
     "text": [
      "\n",
      "Reading file =  C:\\Users\\desma\\Downloads\\jupyter work\\DATA\\TSLA5m.txt\n"
     ]
    },
    {
     "data": {
      "text/plain": [
       "49843"
      ]
     },
     "execution_count": 22,
     "metadata": {},
     "output_type": "execute_result"
    }
   ],
   "source": [
    "import pandas as pd\n",
    "import pandas_ta as ta\n",
    "import glob\n",
    "from datetime import datetime, time\n",
    "\n",
    "headers = ['Date','Time','Open','High','Low','Close','Volume']\n",
    "path = \"C:\\\\Users\\\\desma\\\\Downloads\\\\jupyter work\\\\DATA\\\\\"\n",
    "#set up so i could run multiple datasets if wanted\n",
    "filenames = glob.glob(path + \"TSLA5m.txt\")\n",
    "for file in filenames:\n",
    "    print(\"\\nReading file = \", file)\n",
    "    df = pd.read_csv(file, header = None)\n",
    "    df.columns=headers\n",
    "dfLen = len(df)\n",
    "dfLen"
   ]
  },
  {
   "cell_type": "raw",
   "id": "f9460478",
   "metadata": {},
   "source": [
    "Need to figure out how to close positon at mkt close. Preventing of profit? "
   ]
  },
  {
   "cell_type": "code",
   "execution_count": 23,
   "id": "94322173",
   "metadata": {},
   "outputs": [],
   "source": [
    "#have to make levels and signal for each day. no overnights\n",
    "from datetime import datetime, time\n",
    "import numpy as np\n",
    "\n",
    "\n",
    "openStr = '9:30'\n",
    "closeStr = '16:00'\n",
    "mktOpen = datetime.strptime(openStr, '%H:%M')\n",
    "mktClose = datetime.strptime(closeStr, '%H:%M')\n",
    "high, low, mOpen, mClose = None, None, None, None\n",
    "signal = [0]*dfLen\n",
    "\n",
    "\n",
    "\n",
    "def preLvls(close, open):  #row values, indexes\n",
    "    low = np.inf\n",
    "    high = -np.inf\n",
    "    out = [None, None]\n",
    "    for x in range(close+2, open):  #same strat as before for finding extrema, just shorter interval\n",
    "        currentH = df.High[x-1]\n",
    "        currentL = df.Low[x-1]\n",
    "        if df.High[x-2] < currentH > df.High[x]:\n",
    "            high = max(high, currentH)\n",
    "            out[1] = high\n",
    "        elif df.Low[x-2] > currentL < df.Low[x]:\n",
    "            low = min(low, currentL)\n",
    "            out[0] = low\n",
    "    \n",
    "        \n",
    "    return out\n",
    "\n",
    "\n",
    "for row in range(dfLen):\n",
    "    now = df.Time[row]\n",
    "    currTime = datetime.strptime(now, '%H:%M')\n",
    "    if currTime == mktClose: #reset prev day values\n",
    "        mClose = row\n",
    "        high, low = None, None\n",
    "    elif currTime == mktOpen:\n",
    "        mOpen = row\n",
    "        if mClose and mOpen: #saftey precaution to make sure I have both values \n",
    "            lvls = preLvls(mClose, mOpen)  #now have current idx bounds to find extrema of AH/Pre levels\n",
    "            low, high = lvls[0], lvls[1]\n",
    "            continue  #go to next iteration, since currently 930 need another row to start comp B/S\n",
    "            \n",
    "    if high and low: #mkt open, have ran thru full AH/PM rows and have extrema (if exist)\n",
    "        if df.Close[row] > high and df.Close[row-1] < high:  \n",
    "            signal[row] = 1\n",
    "        elif df.Close[row] < low and df.Close[row-1] > low:\n",
    "            signal[row] = 2\n",
    "    \n",
    "df['Signal'] = signal"
   ]
  },
  {
   "cell_type": "code",
   "execution_count": 24,
   "id": "14ca9d23",
   "metadata": {},
   "outputs": [
    {
     "data": {
      "text/plain": [
       "0    49092\n",
       "1      385\n",
       "2      366\n",
       "Name: Signal, dtype: int64"
      ]
     },
     "execution_count": 24,
     "metadata": {},
     "output_type": "execute_result"
    }
   ],
   "source": [
    "df['Signal'].value_counts()"
   ]
  },
  {
   "cell_type": "code",
   "execution_count": 25,
   "id": "1c91143e",
   "metadata": {},
   "outputs": [],
   "source": [
    "def SIGNAL():\n",
    "    return df.Signal"
   ]
  },
  {
   "cell_type": "code",
   "execution_count": 30,
   "id": "60b8b38d",
   "metadata": {},
   "outputs": [
    {
     "name": "stderr",
     "output_type": "stream",
     "text": [
      "C:\\Users\\desma\\AppData\\Local\\Temp/ipykernel_11940/646858174.py:24: UserWarning: Data index is not datetime. Assuming simple periods, but `pd.DateTimeIndex` is advised.\n",
      "  bt = Backtest(df, myStrat, cash=10_000, margin = 1/1, commission=.000)\n"
     ]
    },
    {
     "data": {
      "text/plain": [
       "Start                                     0.0\n",
       "End                                   49842.0\n",
       "Duration                              49842.0\n",
       "Exposure Time [%]                   61.587384\n",
       "Equity Final [$]                  9707.535507\n",
       "Equity Peak [$]                  12229.938128\n",
       "Return [%]                          -2.924645\n",
       "Buy & Hold Return [%]               10.401779\n",
       "Return (Ann.) [%]                         0.0\n",
       "Volatility (Ann.) [%]                     NaN\n",
       "Sharpe Ratio                              NaN\n",
       "Sortino Ratio                             NaN\n",
       "Calmar Ratio                              0.0\n",
       "Max. Drawdown [%]                  -32.182928\n",
       "Avg. Drawdown [%]                   -2.905227\n",
       "Max. Drawdown Duration                19124.0\n",
       "Avg. Drawdown Duration                 1239.5\n",
       "# Trades                                266.0\n",
       "Win Rate [%]                        36.466165\n",
       "Best Trade [%]                      12.793709\n",
       "Worst Trade [%]                     -5.533663\n",
       "Avg. Trade [%]                      -0.075271\n",
       "Max. Trade Duration                    1208.0\n",
       "Avg. Trade Duration                117.759398\n",
       "Profit Factor                        0.966245\n",
       "Expectancy [%]                      -0.037099\n",
       "SQN                                 -0.069802\n",
       "_strategy                             myStrat\n",
       "_equity_curve                          Equ...\n",
       "_trades                        Size  Entry...\n",
       "dtype: object"
      ]
     },
     "execution_count": 30,
     "metadata": {},
     "output_type": "execute_result"
    }
   ],
   "source": [
    "from backtesting import Strategy, Backtest\n",
    "import numpy as np\n",
    "\n",
    "class myStrat(Strategy):\n",
    "    def init(self):\n",
    "        super().init()\n",
    "        self.signal1=self.I(SIGNAL)     \n",
    "        \n",
    "    def next(self):\n",
    "        super().next()\n",
    "        trailSL = self.data.Close[-1]*.025\n",
    "        for trade in self.trades:\n",
    "            if trade.is_long:\n",
    "                trade.sl = max(trade.sl or -np.inf, self.data.Close[-1] - trailSL)\n",
    "            else:\n",
    "                trade.sl = min(trade.sl or np.inf, self.data.Close[-1] + trailSL)\n",
    "        \n",
    "        if self.signal1==1:# and len(self.trades)==0: #Bullish Signal\n",
    "            self.buy()#, tp=tp1)\n",
    "            \n",
    "        elif self.signal1==2:# and len(self.trades)==0: #Bearish Signal\n",
    "            self.sell()#, tp=tp2) \n",
    "            \n",
    "bt = Backtest(df, myStrat, cash=10_000, margin = 1/1, commission=.000)\n",
    "stat = bt.run()\n",
    "stat\n",
    "#bt.plot()"
   ]
  },
  {
   "cell_type": "raw",
   "id": "91972377",
   "metadata": {},
   "source": [
    "works best with trend, higher volatility. can be made much better... "
   ]
  },
  {
   "cell_type": "code",
   "execution_count": null,
   "id": "4947b2ad",
   "metadata": {},
   "outputs": [],
   "source": []
  }
 ],
 "metadata": {
  "kernelspec": {
   "display_name": "Python 3 (ipykernel)",
   "language": "python",
   "name": "python3"
  },
  "language_info": {
   "codemirror_mode": {
    "name": "ipython",
    "version": 3
   },
   "file_extension": ".py",
   "mimetype": "text/x-python",
   "name": "python",
   "nbconvert_exporter": "python",
   "pygments_lexer": "ipython3",
   "version": "3.9.7"
  }
 },
 "nbformat": 4,
 "nbformat_minor": 5
}
